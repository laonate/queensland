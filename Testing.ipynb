{
 "cells": [
  {
   "cell_type": "markdown",
   "metadata": {},
   "source": [
    "# Driving behaviours during complex scenarios while using mobile phones "
   ]
  },
  {
   "cell_type": "markdown",
   "metadata": {},
   "source": [
    "## Importing Data"
   ]
  },
  {
   "cell_type": "code",
   "execution_count": 1,
   "metadata": {},
   "outputs": [],
   "source": [
    "#Imporitng Libraries\n",
    "import pandas as pd\n",
    "import numpy as np\n",
    "import os\n",
    "import matplotlib.pyplot as plt"
   ]
  },
  {
   "cell_type": "code",
   "execution_count": 2,
   "metadata": {},
   "outputs": [
    {
     "name": "stderr",
     "output_type": "stream",
     "text": [
      "C:\\Users\\n10391452\\AppData\\Local\\Continuum\\anaconda3\\lib\\site-packages\\ipykernel_launcher.py:2: FutureWarning: read_table is deprecated, use read_csv instead, passing sep='\\t'.\n",
      "  \n",
      "C:\\Users\\n10391452\\AppData\\Local\\Continuum\\anaconda3\\lib\\site-packages\\ipykernel_launcher.py:3: FutureWarning: read_table is deprecated, use read_csv instead, passing sep='\\t'.\n",
      "  This is separate from the ipykernel package so we can avoid doing imports until\n",
      "C:\\Users\\n10391452\\AppData\\Local\\Continuum\\anaconda3\\lib\\site-packages\\ipykernel_launcher.py:4: FutureWarning: read_table is deprecated, use read_csv instead, passing sep='\\t'.\n",
      "  after removing the cwd from sys.path.\n",
      "C:\\Users\\n10391452\\AppData\\Local\\Continuum\\anaconda3\\lib\\site-packages\\ipykernel_launcher.py:5: FutureWarning: read_table is deprecated, use read_csv instead, passing sep='\\t'.\n",
      "  \"\"\"\n",
      "C:\\Users\\n10391452\\AppData\\Local\\Continuum\\anaconda3\\lib\\site-packages\\ipykernel_launcher.py:6: FutureWarning: read_table is deprecated, use read_csv instead, passing sep='\\t'.\n",
      "  \n",
      "C:\\Users\\n10391452\\AppData\\Local\\Continuum\\anaconda3\\lib\\site-packages\\ipykernel_launcher.py:7: FutureWarning: read_table is deprecated, use read_csv instead, passing sep='\\t'.\n",
      "  import sys\n",
      "C:\\Users\\n10391452\\AppData\\Local\\Continuum\\anaconda3\\lib\\site-packages\\ipykernel_launcher.py:8: FutureWarning: read_table is deprecated, use read_csv instead, passing sep='\\t'.\n",
      "  \n",
      "C:\\Users\\n10391452\\AppData\\Local\\Continuum\\anaconda3\\lib\\site-packages\\ipykernel_launcher.py:9: FutureWarning: read_table is deprecated, use read_csv instead, passing sep='\\t'.\n",
      "  if __name__ == '__main__':\n",
      "C:\\Users\\n10391452\\AppData\\Local\\Continuum\\anaconda3\\lib\\site-packages\\ipykernel_launcher.py:10: FutureWarning: read_table is deprecated, use read_csv instead, passing sep='\\t'.\n",
      "  # Remove the CWD from sys.path while we load stuff.\n",
      "C:\\Users\\n10391452\\AppData\\Local\\Continuum\\anaconda3\\lib\\site-packages\\ipykernel_launcher.py:11: FutureWarning: read_table is deprecated, use read_csv instead, passing sep='\\t'.\n",
      "  # This is added back by InteractiveShellApp.init_path()\n",
      "C:\\Users\\n10391452\\AppData\\Local\\Continuum\\anaconda3\\lib\\site-packages\\ipykernel_launcher.py:12: FutureWarning: read_table is deprecated, use read_csv instead, passing sep='\\t'.\n",
      "  if sys.path[0] == '':\n",
      "C:\\Users\\n10391452\\AppData\\Local\\Continuum\\anaconda3\\lib\\site-packages\\ipykernel_launcher.py:13: FutureWarning: read_table is deprecated, use read_csv instead, passing sep='\\t'.\n",
      "  del sys.path[0]\n",
      "C:\\Users\\n10391452\\AppData\\Local\\Continuum\\anaconda3\\lib\\site-packages\\ipykernel_launcher.py:14: FutureWarning: read_table is deprecated, use read_csv instead, passing sep='\\t'.\n",
      "  \n",
      "C:\\Users\\n10391452\\AppData\\Local\\Continuum\\anaconda3\\lib\\site-packages\\ipykernel_launcher.py:15: FutureWarning: read_table is deprecated, use read_csv instead, passing sep='\\t'.\n",
      "  from ipykernel import kernelapp as app\n",
      "C:\\Users\\n10391452\\AppData\\Local\\Continuum\\anaconda3\\lib\\site-packages\\ipykernel_launcher.py:16: FutureWarning: read_table is deprecated, use read_csv instead, passing sep='\\t'.\n",
      "  app.launch_new_instance()\n",
      "C:\\Users\\n10391452\\AppData\\Local\\Continuum\\anaconda3\\lib\\site-packages\\ipykernel_launcher.py:17: FutureWarning: read_table is deprecated, use read_csv instead, passing sep='\\t'.\n",
      "C:\\Users\\n10391452\\AppData\\Local\\Continuum\\anaconda3\\lib\\site-packages\\ipykernel_launcher.py:18: FutureWarning: read_table is deprecated, use read_csv instead, passing sep='\\t'.\n",
      "C:\\Users\\n10391452\\AppData\\Local\\Continuum\\anaconda3\\lib\\site-packages\\ipykernel_launcher.py:19: FutureWarning: read_table is deprecated, use read_csv instead, passing sep='\\t'.\n",
      "C:\\Users\\n10391452\\AppData\\Local\\Continuum\\anaconda3\\lib\\site-packages\\ipykernel_launcher.py:20: FutureWarning: read_table is deprecated, use read_csv instead, passing sep='\\t'.\n",
      "C:\\Users\\n10391452\\AppData\\Local\\Continuum\\anaconda3\\lib\\site-packages\\ipykernel_launcher.py:21: FutureWarning: read_table is deprecated, use read_csv instead, passing sep='\\t'.\n",
      "C:\\Users\\n10391452\\AppData\\Local\\Continuum\\anaconda3\\lib\\site-packages\\ipykernel_launcher.py:22: FutureWarning: read_table is deprecated, use read_csv instead, passing sep='\\t'.\n",
      "C:\\Users\\n10391452\\AppData\\Local\\Continuum\\anaconda3\\lib\\site-packages\\ipykernel_launcher.py:23: FutureWarning: read_table is deprecated, use read_csv instead, passing sep='\\t'.\n",
      "C:\\Users\\n10391452\\AppData\\Local\\Continuum\\anaconda3\\lib\\site-packages\\ipykernel_launcher.py:24: FutureWarning: read_table is deprecated, use read_csv instead, passing sep='\\t'.\n",
      "C:\\Users\\n10391452\\AppData\\Local\\Continuum\\anaconda3\\lib\\site-packages\\ipykernel_launcher.py:25: FutureWarning: read_table is deprecated, use read_csv instead, passing sep='\\t'.\n",
      "C:\\Users\\n10391452\\AppData\\Local\\Continuum\\anaconda3\\lib\\site-packages\\ipykernel_launcher.py:26: FutureWarning: read_table is deprecated, use read_csv instead, passing sep='\\t'.\n",
      "C:\\Users\\n10391452\\AppData\\Local\\Continuum\\anaconda3\\lib\\site-packages\\ipykernel_launcher.py:27: FutureWarning: read_table is deprecated, use read_csv instead, passing sep='\\t'.\n",
      "C:\\Users\\n10391452\\AppData\\Local\\Continuum\\anaconda3\\lib\\site-packages\\ipykernel_launcher.py:28: FutureWarning: read_table is deprecated, use read_csv instead, passing sep='\\t'.\n",
      "C:\\Users\\n10391452\\AppData\\Local\\Continuum\\anaconda3\\lib\\site-packages\\ipykernel_launcher.py:29: FutureWarning: read_table is deprecated, use read_csv instead, passing sep='\\t'.\n",
      "C:\\Users\\n10391452\\AppData\\Local\\Continuum\\anaconda3\\lib\\site-packages\\ipykernel_launcher.py:30: FutureWarning: read_table is deprecated, use read_csv instead, passing sep='\\t'.\n",
      "C:\\Users\\n10391452\\AppData\\Local\\Continuum\\anaconda3\\lib\\site-packages\\ipykernel_launcher.py:31: FutureWarning: read_table is deprecated, use read_csv instead, passing sep='\\t'.\n",
      "C:\\Users\\n10391452\\AppData\\Local\\Continuum\\anaconda3\\lib\\site-packages\\ipykernel_launcher.py:32: FutureWarning: read_table is deprecated, use read_csv instead, passing sep='\\t'.\n",
      "C:\\Users\\n10391452\\AppData\\Local\\Continuum\\anaconda3\\lib\\site-packages\\ipykernel_launcher.py:33: FutureWarning: read_table is deprecated, use read_csv instead, passing sep='\\t'.\n",
      "C:\\Users\\n10391452\\AppData\\Local\\Continuum\\anaconda3\\lib\\site-packages\\ipykernel_launcher.py:34: FutureWarning: read_table is deprecated, use read_csv instead, passing sep='\\t'.\n",
      "C:\\Users\\n10391452\\AppData\\Local\\Continuum\\anaconda3\\lib\\site-packages\\ipykernel_launcher.py:35: FutureWarning: read_table is deprecated, use read_csv instead, passing sep='\\t'.\n",
      "C:\\Users\\n10391452\\AppData\\Local\\Continuum\\anaconda3\\lib\\site-packages\\ipykernel_launcher.py:36: FutureWarning: read_table is deprecated, use read_csv instead, passing sep='\\t'.\n"
     ]
    },
    {
     "data": {
      "text/html": [
       "<div>\n",
       "<style scoped>\n",
       "    .dataframe tbody tr th:only-of-type {\n",
       "        vertical-align: middle;\n",
       "    }\n",
       "\n",
       "    .dataframe tbody tr th {\n",
       "        vertical-align: top;\n",
       "    }\n",
       "\n",
       "    .dataframe thead th {\n",
       "        text-align: right;\n",
       "    }\n",
       "</style>\n",
       "<table border=\"1\" class=\"dataframe\">\n",
       "  <thead>\n",
       "    <tr style=\"text-align: right;\">\n",
       "      <th></th>\n",
       "      <th>time</th>\n",
       "      <th>[00].ExportChannel-val</th>\n",
       "      <th>[01 (\"test1\")].ExportChannel-val</th>\n",
       "      <th>[02].ExportChannel-val</th>\n",
       "      <th>[03].ExportChannel-val</th>\n",
       "      <th>[04].ExportChannel-val</th>\n",
       "      <th>[05 (\"test5\")].ExportChannel-val</th>\n",
       "      <th>[06].ExportChannel-val</th>\n",
       "      <th>[07].ExportChannel-val</th>\n",
       "      <th>[08].ExportChannel-val</th>\n",
       "      <th>...</th>\n",
       "      <th>[29].ExportChannel-val</th>\n",
       "      <th>[30].ExportChannel-val</th>\n",
       "      <th>[31].ExportChannel-val</th>\n",
       "      <th>[32].ExportChannel-val</th>\n",
       "      <th>[33].ExportChannel-val</th>\n",
       "      <th>[34].ExportChannel-val</th>\n",
       "      <th>[35].ExportChannel-val</th>\n",
       "      <th>[36].ExportChannel-val</th>\n",
       "      <th>[37].ExportChannel-val</th>\n",
       "      <th>[38].ExportChannel-val</th>\n",
       "    </tr>\n",
       "  </thead>\n",
       "  <tbody>\n",
       "    <tr>\n",
       "      <th>0.00</th>\n",
       "      <td>NaN</td>\n",
       "      <td>NaN</td>\n",
       "      <td>NaN</td>\n",
       "      <td>NaN</td>\n",
       "      <td>NaN</td>\n",
       "      <td>NaN</td>\n",
       "      <td>NaN</td>\n",
       "      <td>NaN</td>\n",
       "      <td>NaN</td>\n",
       "      <td>NaN</td>\n",
       "      <td>...</td>\n",
       "      <td>NaN</td>\n",
       "      <td>NaN</td>\n",
       "      <td>NaN</td>\n",
       "      <td>NaN</td>\n",
       "      <td>NaN</td>\n",
       "      <td>NaN</td>\n",
       "      <td>NaN</td>\n",
       "      <td>NaN</td>\n",
       "      <td>NaN</td>\n",
       "      <td>NaN</td>\n",
       "    </tr>\n",
       "    <tr>\n",
       "      <th>0.05</th>\n",
       "      <td>NaN</td>\n",
       "      <td>NaN</td>\n",
       "      <td>NaN</td>\n",
       "      <td>NaN</td>\n",
       "      <td>NaN</td>\n",
       "      <td>NaN</td>\n",
       "      <td>NaN</td>\n",
       "      <td>NaN</td>\n",
       "      <td>NaN</td>\n",
       "      <td>NaN</td>\n",
       "      <td>...</td>\n",
       "      <td>NaN</td>\n",
       "      <td>NaN</td>\n",
       "      <td>NaN</td>\n",
       "      <td>NaN</td>\n",
       "      <td>NaN</td>\n",
       "      <td>NaN</td>\n",
       "      <td>NaN</td>\n",
       "      <td>NaN</td>\n",
       "      <td>NaN</td>\n",
       "      <td>NaN</td>\n",
       "    </tr>\n",
       "    <tr>\n",
       "      <th>0.10</th>\n",
       "      <td>NaN</td>\n",
       "      <td>NaN</td>\n",
       "      <td>NaN</td>\n",
       "      <td>NaN</td>\n",
       "      <td>NaN</td>\n",
       "      <td>NaN</td>\n",
       "      <td>NaN</td>\n",
       "      <td>NaN</td>\n",
       "      <td>NaN</td>\n",
       "      <td>NaN</td>\n",
       "      <td>...</td>\n",
       "      <td>NaN</td>\n",
       "      <td>NaN</td>\n",
       "      <td>NaN</td>\n",
       "      <td>NaN</td>\n",
       "      <td>NaN</td>\n",
       "      <td>NaN</td>\n",
       "      <td>NaN</td>\n",
       "      <td>NaN</td>\n",
       "      <td>NaN</td>\n",
       "      <td>NaN</td>\n",
       "    </tr>\n",
       "    <tr>\n",
       "      <th>0.15</th>\n",
       "      <td>NaN</td>\n",
       "      <td>NaN</td>\n",
       "      <td>NaN</td>\n",
       "      <td>NaN</td>\n",
       "      <td>NaN</td>\n",
       "      <td>NaN</td>\n",
       "      <td>NaN</td>\n",
       "      <td>NaN</td>\n",
       "      <td>NaN</td>\n",
       "      <td>NaN</td>\n",
       "      <td>...</td>\n",
       "      <td>NaN</td>\n",
       "      <td>NaN</td>\n",
       "      <td>NaN</td>\n",
       "      <td>NaN</td>\n",
       "      <td>NaN</td>\n",
       "      <td>NaN</td>\n",
       "      <td>NaN</td>\n",
       "      <td>NaN</td>\n",
       "      <td>NaN</td>\n",
       "      <td>NaN</td>\n",
       "    </tr>\n",
       "    <tr>\n",
       "      <th>0.20</th>\n",
       "      <td>NaN</td>\n",
       "      <td>NaN</td>\n",
       "      <td>NaN</td>\n",
       "      <td>NaN</td>\n",
       "      <td>NaN</td>\n",
       "      <td>NaN</td>\n",
       "      <td>NaN</td>\n",
       "      <td>NaN</td>\n",
       "      <td>NaN</td>\n",
       "      <td>NaN</td>\n",
       "      <td>...</td>\n",
       "      <td>NaN</td>\n",
       "      <td>NaN</td>\n",
       "      <td>NaN</td>\n",
       "      <td>NaN</td>\n",
       "      <td>NaN</td>\n",
       "      <td>NaN</td>\n",
       "      <td>NaN</td>\n",
       "      <td>NaN</td>\n",
       "      <td>NaN</td>\n",
       "      <td>NaN</td>\n",
       "    </tr>\n",
       "  </tbody>\n",
       "</table>\n",
       "<p>5 rows × 40 columns</p>\n",
       "</div>"
      ],
      "text/plain": [
       "      time  [00].ExportChannel-val  [01 (\"test1\")].ExportChannel-val  \\\n",
       "0.00   NaN                     NaN                               NaN   \n",
       "0.05   NaN                     NaN                               NaN   \n",
       "0.10   NaN                     NaN                               NaN   \n",
       "0.15   NaN                     NaN                               NaN   \n",
       "0.20   NaN                     NaN                               NaN   \n",
       "\n",
       "      [02].ExportChannel-val  [03].ExportChannel-val  [04].ExportChannel-val  \\\n",
       "0.00                     NaN                     NaN                     NaN   \n",
       "0.05                     NaN                     NaN                     NaN   \n",
       "0.10                     NaN                     NaN                     NaN   \n",
       "0.15                     NaN                     NaN                     NaN   \n",
       "0.20                     NaN                     NaN                     NaN   \n",
       "\n",
       "      [05 (\"test5\")].ExportChannel-val  [06].ExportChannel-val  \\\n",
       "0.00                               NaN                     NaN   \n",
       "0.05                               NaN                     NaN   \n",
       "0.10                               NaN                     NaN   \n",
       "0.15                               NaN                     NaN   \n",
       "0.20                               NaN                     NaN   \n",
       "\n",
       "      [07].ExportChannel-val  [08].ExportChannel-val  ...  \\\n",
       "0.00                     NaN                     NaN  ...   \n",
       "0.05                     NaN                     NaN  ...   \n",
       "0.10                     NaN                     NaN  ...   \n",
       "0.15                     NaN                     NaN  ...   \n",
       "0.20                     NaN                     NaN  ...   \n",
       "\n",
       "      [29].ExportChannel-val  [30].ExportChannel-val  [31].ExportChannel-val  \\\n",
       "0.00                     NaN                     NaN                     NaN   \n",
       "0.05                     NaN                     NaN                     NaN   \n",
       "0.10                     NaN                     NaN                     NaN   \n",
       "0.15                     NaN                     NaN                     NaN   \n",
       "0.20                     NaN                     NaN                     NaN   \n",
       "\n",
       "      [32].ExportChannel-val  [33].ExportChannel-val  [34].ExportChannel-val  \\\n",
       "0.00                     NaN                     NaN                     NaN   \n",
       "0.05                     NaN                     NaN                     NaN   \n",
       "0.10                     NaN                     NaN                     NaN   \n",
       "0.15                     NaN                     NaN                     NaN   \n",
       "0.20                     NaN                     NaN                     NaN   \n",
       "\n",
       "      [35].ExportChannel-val  [36].ExportChannel-val  [37].ExportChannel-val  \\\n",
       "0.00                     NaN                     NaN                     NaN   \n",
       "0.05                     NaN                     NaN                     NaN   \n",
       "0.10                     NaN                     NaN                     NaN   \n",
       "0.15                     NaN                     NaN                     NaN   \n",
       "0.20                     NaN                     NaN                     NaN   \n",
       "\n",
       "      [38].ExportChannel-val  \n",
       "0.00                     NaN  \n",
       "0.05                     NaN  \n",
       "0.10                     NaN  \n",
       "0.15                     NaN  \n",
       "0.20                     NaN  \n",
       "\n",
       "[5 rows x 40 columns]"
      ]
     },
     "execution_count": 2,
     "metadata": {},
     "output_type": "execute_result"
    }
   ],
   "source": [
    "#Uploading DB\n",
    "df1B = pd.read_table(os.getcwd() + \"/df/01_B_C.txt\")\n",
    "df2B = pd.read_table(os.getcwd() + \"/df (2)/02_B_C.txt\")\n",
    "df3B = pd.read_table(os.getcwd() + \"/df (3)/03_B_C.txt\")\n",
    "df4B = pd.read_table(os.getcwd() + \"/df (4)/04_B_A.txt\")\n",
    "df5B = pd.read_table(os.getcwd() + \"/df (5)/05_B_T.txt\")\n",
    "df6B = pd.read_table(os.getcwd() + \"/df (6)/06_B_A.txt\")\n",
    "df7B = pd.read_table(os.getcwd() + \"/df (7)/07_B_A.txt\")\n",
    "df8B = pd.read_table(os.getcwd() + \"/df (8)/08_B_A.txt\")\n",
    "df9B = pd.read_table(os.getcwd() + \"/df (9)/09_B_A.txt\")\n",
    "df10B = pd.read_table(os.getcwd() + \"/df (10)/10_B_A.txt\")\n",
    "df11B = pd.read_table(os.getcwd() + \"/df (11)/11_B_T.txt\")\n",
    "df12B = pd.read_table(os.getcwd() + \"/df (12)/12_B1_A.txt\")\n",
    "df13B = pd.read_table(os.getcwd() + \"/df (13)/13_B_C.txt\")\n",
    "df14B = pd.read_table(os.getcwd() + \"/df (14)/14_B_T.txt\")\n",
    "df15B = pd.read_table(os.getcwd() + \"/df (15)/15_B_A.txt\")\n",
    "df16B = pd.read_table(os.getcwd() + \"/df (16)/16_B_A.txt\")\n",
    "df17B = pd.read_table(os.getcwd() + \"/df (17)/17_B_T.txt\")\n",
    "df18B = pd.read_table(os.getcwd() + \"/df (18)/18_B_A.txt\")\n",
    "df19B = pd.read_table(os.getcwd() + \"/df (19)/19_B_A.txt\")\n",
    "df20B = pd.read_table(os.getcwd() + \"/df (20)/20_B_A.txt\")\n",
    "df21B = pd.read_table(os.getcwd() + \"/df (21)/21_B_T.txt\")\n",
    "df22B = pd.read_table(os.getcwd() + \"/df (22)/22_B_C.txt\")\n",
    "df23B = pd.read_table(os.getcwd() + \"/df (23)/23_B_T.txt\")\n",
    "df24B = pd.read_table(os.getcwd() + \"/df (24)/24_B_A.txt\")\n",
    "df25B = pd.read_table(os.getcwd() + \"/df (25)/25_B_T.txt\")\n",
    "df26B = pd.read_table(os.getcwd() + \"/df (26)/26_B_A.txt\")\n",
    "df27B = pd.read_table(os.getcwd() + \"/df (27)/27_B_T.txt\")\n",
    "df28B = pd.read_table(os.getcwd() + \"/df (28)/28_B_A.txt\")\n",
    "df29B = pd.read_table(os.getcwd() + \"/df (29)/29_B_T.txt\")\n",
    "df30B = pd.read_table(os.getcwd() + \"/df (30)/30_B_A.txt\")\n",
    "df31B = pd.read_table(os.getcwd() + \"/df (31)/31_B_A.txt\")\n",
    "df32B = pd.read_table(os.getcwd() + \"/df (32)/32_B_C.txt\")\n",
    "df33B = pd.read_table(os.getcwd() + \"/df (33)/33_B_A.txt\")\n",
    "df34B = pd.read_table(os.getcwd() + \"/df (34)/34_B_A.txt\")\n",
    "df35B = pd.read_table(os.getcwd() + \"/df (35)/35_B_A.txt\")\n",
    "\n",
    "df10B.head(5)"
   ]
  },
  {
   "cell_type": "code",
   "execution_count": 3,
   "metadata": {},
   "outputs": [
    {
     "data": {
      "text/plain": [
       "array([ nan,   8.,   1.,   2.,   3.,   4.,   5.,   6.,   7.,  18.,   9.,\n",
       "        10.,  11.,  12.,  13.,  14.,  15.,  16.,  17.,  19.,  28.,  20.,\n",
       "        21.,  22.,  23.,  24.,  25.,  26.,  27.,  29.,  46.,  30., 300.,\n",
       "       301.,  31.,  32.,  33.,  34.,  35.,  36.,  37.,  38.,  39.,  40.,\n",
       "        41.,  43.,  44.,  45.])"
      ]
     },
     "execution_count": 3,
     "metadata": {},
     "output_type": "execute_result"
    }
   ],
   "source": [
    "#Identifying unique values for location\n",
    "df1B.iloc[:,1].unique()"
   ]
  },
  {
   "cell_type": "code",
   "execution_count": 4,
   "metadata": {},
   "outputs": [
    {
     "data": {
      "text/plain": [
       "array([nan,  0., 11., 21., 31., 32., 12., 33., 41., 34., 22., 35., 42.,\n",
       "       10., 43., 44., 45., 46.])"
      ]
     },
     "execution_count": 4,
     "metadata": {},
     "output_type": "execute_result"
    }
   ],
   "source": [
    "#Identifying unique values for Activity\n",
    "df1B.iloc[:,3].unique()"
   ]
  },
  {
   "cell_type": "code",
   "execution_count": 5,
   "metadata": {},
   "outputs": [
    {
     "data": {
      "text/plain": [
       "(28261, 40)"
      ]
     },
     "execution_count": 5,
     "metadata": {},
     "output_type": "execute_result"
    }
   ],
   "source": [
    "df1B.shape"
   ]
  },
  {
   "cell_type": "code",
   "execution_count": 6,
   "metadata": {},
   "outputs": [
    {
     "data": {
      "text/plain": [
       "time                                   30\n",
       "[00].ExportChannel-val                 30\n",
       "[01 (\"test1\")].ExportChannel-val       30\n",
       "[02].ExportChannel-val                 30\n",
       "[03].ExportChannel-val                 30\n",
       "[04].ExportChannel-val                 30\n",
       "[05 (\"test5\")].ExportChannel-val       30\n",
       "[06].ExportChannel-val                 30\n",
       "[07].ExportChannel-val                 30\n",
       "[08].ExportChannel-val                 30\n",
       "[09].ExportChannel-val                 30\n",
       "[10].ExportChannel-val                 30\n",
       "[11].ExportChannel-val                 30\n",
       "[12].ExportChannel-val                 30\n",
       "[13].ExportChannel-val                 30\n",
       "[14].ExportChannel-val                 30\n",
       "[15].ExportChannel-val                 30\n",
       "[16].ExportChannel-val                 30\n",
       "[17].ExportChannel-val                 30\n",
       "[18].ExportChannel-val                 30\n",
       "[19].ExportChannel-val                 30\n",
       "[20].ExportChannel-val                 30\n",
       "[21].ExportChannel-val                 30\n",
       "[22].ExportChannel-val                 30\n",
       "[23].ExportChannel-val                 30\n",
       "[24].ExportChannel-val                 30\n",
       "[25].ExportChannel-val                 30\n",
       "[26].ExportChannel-val                 30\n",
       "[27].ExportChannel-val                 30\n",
       "[28].ExportChannel-val                 30\n",
       "[29].ExportChannel-val                 30\n",
       "[30].ExportChannel-val                 30\n",
       "[31].ExportChannel-val                 30\n",
       "[32].ExportChannel-val                 30\n",
       "[33].ExportChannel-val                 30\n",
       "[34].ExportChannel-val                 30\n",
       "[35].ExportChannel-val                 30\n",
       "[36].ExportChannel-val                 30\n",
       "[37].ExportChannel-val                 30\n",
       "[38].ExportChannel-val              27341\n",
       "dtype: int64"
      ]
     },
     "execution_count": 6,
     "metadata": {},
     "output_type": "execute_result"
    }
   ],
   "source": [
    "#Cuente el numero de missing values\n",
    "df2B.isnull().sum()"
   ]
  },
  {
   "cell_type": "markdown",
   "metadata": {},
   "source": [
    "### Listing Data bases"
   ]
  },
  {
   "cell_type": "code",
   "execution_count": 7,
   "metadata": {},
   "outputs": [],
   "source": [
    "df_list = [df1B, df2B, df3B, df4B, df5B, df6B, df7B, df8B, df9B, df10B, df11B, df12B, df13B, df14B, df15B, df16B, df17B, df18B, df19B, df20B, df21B, df22B, df23B, df24B, df25B, df26B, df27B, df28B, df30B, df31B, df32B, df33B, df34B, df35B]"
   ]
  },
  {
   "cell_type": "markdown",
   "metadata": {},
   "source": [
    "### Droping missing values"
   ]
  },
  {
   "cell_type": "code",
   "execution_count": 8,
   "metadata": {},
   "outputs": [
    {
     "data": {
      "text/plain": [
       "(28261, 39)"
      ]
     },
     "execution_count": 8,
     "metadata": {},
     "output_type": "execute_result"
    }
   ],
   "source": [
    "for df in df_list:\n",
    "    df = df.drop('[38].ExportChannel-val',1, inplace=True, errors = 'ignore')\n",
    "    \n",
    "df1B.shape"
   ]
  },
  {
   "cell_type": "code",
   "execution_count": 9,
   "metadata": {},
   "outputs": [
    {
     "data": {
      "text/plain": [
       "(23652, 39)"
      ]
     },
     "execution_count": 9,
     "metadata": {},
     "output_type": "execute_result"
    }
   ],
   "source": [
    "for df in df_list:\n",
    "    df = df.dropna(inplace=True)\n",
    "\n",
    "\n",
    "df15B.shape\n"
   ]
  },
  {
   "cell_type": "markdown",
   "metadata": {},
   "source": [
    "### Changing columns names for readable ones"
   ]
  },
  {
   "cell_type": "code",
   "execution_count": 10,
   "metadata": {},
   "outputs": [],
   "source": [
    "\n",
    "for df in df_list :\n",
    "    df = df.rename(columns={'[00].ExportChannel-val': 'Location', '[04].ExportChannel-val': 'Activity', '[05 (\"test5\")].ExportChannel-val': 'Status', '[22].ExportChannel-val': 'Speed' , '[25].ExportChannel-val': 'DirChanges', '[29].ExportChannel-val': 'RoadWidth', '[32].ExportChannel-val': 'LaneWidth', '[33].ExportChannel-val': 'TripMeter'}, inplace=True)"
   ]
  },
  {
   "cell_type": "code",
   "execution_count": 11,
   "metadata": {},
   "outputs": [
    {
     "data": {
      "text/html": [
       "<div>\n",
       "<style scoped>\n",
       "    .dataframe tbody tr th:only-of-type {\n",
       "        vertical-align: middle;\n",
       "    }\n",
       "\n",
       "    .dataframe tbody tr th {\n",
       "        vertical-align: top;\n",
       "    }\n",
       "\n",
       "    .dataframe thead th {\n",
       "        text-align: right;\n",
       "    }\n",
       "</style>\n",
       "<table border=\"1\" class=\"dataframe\">\n",
       "  <thead>\n",
       "    <tr style=\"text-align: right;\">\n",
       "      <th></th>\n",
       "      <th>time</th>\n",
       "      <th>Location</th>\n",
       "      <th>[01 (\"test1\")].ExportChannel-val</th>\n",
       "      <th>[02].ExportChannel-val</th>\n",
       "      <th>[03].ExportChannel-val</th>\n",
       "      <th>Activity</th>\n",
       "      <th>Status</th>\n",
       "      <th>[06].ExportChannel-val</th>\n",
       "      <th>[07].ExportChannel-val</th>\n",
       "      <th>[08].ExportChannel-val</th>\n",
       "      <th>...</th>\n",
       "      <th>[28].ExportChannel-val</th>\n",
       "      <th>RoadWidth</th>\n",
       "      <th>[30].ExportChannel-val</th>\n",
       "      <th>[31].ExportChannel-val</th>\n",
       "      <th>LaneWidth</th>\n",
       "      <th>TripMeter</th>\n",
       "      <th>[34].ExportChannel-val</th>\n",
       "      <th>[35].ExportChannel-val</th>\n",
       "      <th>[36].ExportChannel-val</th>\n",
       "      <th>[37].ExportChannel-val</th>\n",
       "    </tr>\n",
       "  </thead>\n",
       "  <tbody>\n",
       "    <tr>\n",
       "      <th>1.45</th>\n",
       "      <td>0.300012</td>\n",
       "      <td>46.0</td>\n",
       "      <td>0.0</td>\n",
       "      <td>0.0</td>\n",
       "      <td>2.0</td>\n",
       "      <td>0.0</td>\n",
       "      <td>0.0</td>\n",
       "      <td>0.0</td>\n",
       "      <td>0.0</td>\n",
       "      <td>0.0</td>\n",
       "      <td>...</td>\n",
       "      <td>-0.001538</td>\n",
       "      <td>0.0</td>\n",
       "      <td>7.0</td>\n",
       "      <td>0.0</td>\n",
       "      <td>693.466125</td>\n",
       "      <td>2202.935303</td>\n",
       "      <td>-0.020121</td>\n",
       "      <td>0.564323</td>\n",
       "      <td>-0.007102</td>\n",
       "      <td>-0.085053</td>\n",
       "    </tr>\n",
       "    <tr>\n",
       "      <th>1.50</th>\n",
       "      <td>0.650044</td>\n",
       "      <td>46.0</td>\n",
       "      <td>0.0</td>\n",
       "      <td>0.0</td>\n",
       "      <td>2.0</td>\n",
       "      <td>0.0</td>\n",
       "      <td>0.0</td>\n",
       "      <td>0.0</td>\n",
       "      <td>0.0</td>\n",
       "      <td>0.0</td>\n",
       "      <td>...</td>\n",
       "      <td>-0.001538</td>\n",
       "      <td>0.0</td>\n",
       "      <td>7.0</td>\n",
       "      <td>0.0</td>\n",
       "      <td>693.264893</td>\n",
       "      <td>2202.723145</td>\n",
       "      <td>-0.019122</td>\n",
       "      <td>0.203206</td>\n",
       "      <td>-0.001830</td>\n",
       "      <td>-0.032399</td>\n",
       "    </tr>\n",
       "    <tr>\n",
       "      <th>1.55</th>\n",
       "      <td>0.950040</td>\n",
       "      <td>46.0</td>\n",
       "      <td>0.0</td>\n",
       "      <td>0.0</td>\n",
       "      <td>2.0</td>\n",
       "      <td>0.0</td>\n",
       "      <td>0.0</td>\n",
       "      <td>0.0</td>\n",
       "      <td>0.0</td>\n",
       "      <td>0.0</td>\n",
       "      <td>...</td>\n",
       "      <td>-0.001538</td>\n",
       "      <td>0.0</td>\n",
       "      <td>7.0</td>\n",
       "      <td>0.0</td>\n",
       "      <td>693.081848</td>\n",
       "      <td>2202.530029</td>\n",
       "      <td>-0.018613</td>\n",
       "      <td>0.184940</td>\n",
       "      <td>0.003482</td>\n",
       "      <td>0.002666</td>\n",
       "    </tr>\n",
       "    <tr>\n",
       "      <th>1.60</th>\n",
       "      <td>1.250057</td>\n",
       "      <td>46.0</td>\n",
       "      <td>0.0</td>\n",
       "      <td>0.0</td>\n",
       "      <td>2.0</td>\n",
       "      <td>0.0</td>\n",
       "      <td>0.0</td>\n",
       "      <td>0.0</td>\n",
       "      <td>0.0</td>\n",
       "      <td>0.0</td>\n",
       "      <td>...</td>\n",
       "      <td>-0.001538</td>\n",
       "      <td>0.0</td>\n",
       "      <td>7.0</td>\n",
       "      <td>0.0</td>\n",
       "      <td>692.882141</td>\n",
       "      <td>2202.319092</td>\n",
       "      <td>-0.018265</td>\n",
       "      <td>0.170737</td>\n",
       "      <td>0.001097</td>\n",
       "      <td>0.003005</td>\n",
       "    </tr>\n",
       "    <tr>\n",
       "      <th>1.65</th>\n",
       "      <td>1.550071</td>\n",
       "      <td>46.0</td>\n",
       "      <td>0.0</td>\n",
       "      <td>0.0</td>\n",
       "      <td>2.0</td>\n",
       "      <td>0.0</td>\n",
       "      <td>0.0</td>\n",
       "      <td>0.0</td>\n",
       "      <td>0.0</td>\n",
       "      <td>0.0</td>\n",
       "      <td>...</td>\n",
       "      <td>-0.001538</td>\n",
       "      <td>0.0</td>\n",
       "      <td>7.0</td>\n",
       "      <td>0.0</td>\n",
       "      <td>692.677246</td>\n",
       "      <td>2202.102783</td>\n",
       "      <td>-0.018016</td>\n",
       "      <td>0.157616</td>\n",
       "      <td>0.000365</td>\n",
       "      <td>0.000922</td>\n",
       "    </tr>\n",
       "  </tbody>\n",
       "</table>\n",
       "<p>5 rows × 39 columns</p>\n",
       "</div>"
      ],
      "text/plain": [
       "          time  Location  [01 (\"test1\")].ExportChannel-val  \\\n",
       "1.45  0.300012      46.0                               0.0   \n",
       "1.50  0.650044      46.0                               0.0   \n",
       "1.55  0.950040      46.0                               0.0   \n",
       "1.60  1.250057      46.0                               0.0   \n",
       "1.65  1.550071      46.0                               0.0   \n",
       "\n",
       "      [02].ExportChannel-val  [03].ExportChannel-val  Activity  Status  \\\n",
       "1.45                     0.0                     2.0       0.0     0.0   \n",
       "1.50                     0.0                     2.0       0.0     0.0   \n",
       "1.55                     0.0                     2.0       0.0     0.0   \n",
       "1.60                     0.0                     2.0       0.0     0.0   \n",
       "1.65                     0.0                     2.0       0.0     0.0   \n",
       "\n",
       "      [06].ExportChannel-val  [07].ExportChannel-val  [08].ExportChannel-val  \\\n",
       "1.45                     0.0                     0.0                     0.0   \n",
       "1.50                     0.0                     0.0                     0.0   \n",
       "1.55                     0.0                     0.0                     0.0   \n",
       "1.60                     0.0                     0.0                     0.0   \n",
       "1.65                     0.0                     0.0                     0.0   \n",
       "\n",
       "      ...  [28].ExportChannel-val  RoadWidth  [30].ExportChannel-val  \\\n",
       "1.45  ...               -0.001538        0.0                     7.0   \n",
       "1.50  ...               -0.001538        0.0                     7.0   \n",
       "1.55  ...               -0.001538        0.0                     7.0   \n",
       "1.60  ...               -0.001538        0.0                     7.0   \n",
       "1.65  ...               -0.001538        0.0                     7.0   \n",
       "\n",
       "      [31].ExportChannel-val   LaneWidth    TripMeter  [34].ExportChannel-val  \\\n",
       "1.45                     0.0  693.466125  2202.935303               -0.020121   \n",
       "1.50                     0.0  693.264893  2202.723145               -0.019122   \n",
       "1.55                     0.0  693.081848  2202.530029               -0.018613   \n",
       "1.60                     0.0  692.882141  2202.319092               -0.018265   \n",
       "1.65                     0.0  692.677246  2202.102783               -0.018016   \n",
       "\n",
       "      [35].ExportChannel-val  [36].ExportChannel-val  [37].ExportChannel-val  \n",
       "1.45                0.564323               -0.007102               -0.085053  \n",
       "1.50                0.203206               -0.001830               -0.032399  \n",
       "1.55                0.184940                0.003482                0.002666  \n",
       "1.60                0.170737                0.001097                0.003005  \n",
       "1.65                0.157616                0.000365                0.000922  \n",
       "\n",
       "[5 rows x 39 columns]"
      ]
     },
     "execution_count": 11,
     "metadata": {},
     "output_type": "execute_result"
    }
   ],
   "source": [
    "df15B.head(5)"
   ]
  },
  {
   "cell_type": "markdown",
   "metadata": {},
   "source": [
    "### Location 36"
   ]
  },
  {
   "cell_type": "code",
   "execution_count": 16,
   "metadata": {},
   "outputs": [],
   "source": [
    "\n",
    "for df in df_list:\n",
    "    df[df['Location'] == 36 ]\n",
    "    "
   ]
  },
  {
   "cell_type": "code",
   "execution_count": 18,
   "metadata": {},
   "outputs": [
    {
     "data": {
      "text/plain": [
       "(23652, 39)"
      ]
     },
     "execution_count": 18,
     "metadata": {},
     "output_type": "execute_result"
    }
   ],
   "source": [
    "df15B.shape"
   ]
  },
  {
   "cell_type": "markdown",
   "metadata": {},
   "source": [
    "### Location 40"
   ]
  },
  {
   "cell_type": "code",
   "execution_count": null,
   "metadata": {},
   "outputs": [],
   "source": [
    "dfloc40B = df[df['Location'] == 40 ]\n",
    "\n",
    "dfloc40B.head()"
   ]
  },
  {
   "cell_type": "code",
   "execution_count": null,
   "metadata": {},
   "outputs": [],
   "source": [
    "dfloc36B.to_csv('loc36B1.txt', sep='\\t')"
   ]
  }
 ],
 "metadata": {
  "kernelspec": {
   "display_name": "Python 3",
   "language": "python",
   "name": "python3"
  },
  "language_info": {
   "codemirror_mode": {
    "name": "ipython",
    "version": 3
   },
   "file_extension": ".py",
   "mimetype": "text/x-python",
   "name": "python",
   "nbconvert_exporter": "python",
   "pygments_lexer": "ipython3",
   "version": "3.7.3"
  }
 },
 "nbformat": 4,
 "nbformat_minor": 2
}
